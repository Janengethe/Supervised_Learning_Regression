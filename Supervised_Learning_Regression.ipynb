{
 "cells": [
  {
   "cell_type": "markdown",
   "id": "622b384e-4744-4d89-ad41-fe8997845d3a",
   "metadata": {},
   "source": [
    "<span style=\"font-size: 40px; color: red\">Predicting House Prices using Regression Models</span>\n",
    "#### Objective:\n",
    "* The goal of this assignment is to apply the concepts learned about regression models to predict house prices using a given dataset. You will use various regression models, evaluate their performance, and tune their hyperparameters.\n",
    "\n",
    "#### Dataset:\n",
    "* Use the Boston Housing dataset, which is available in scikit-learn's datasets module.\n",
    "\n",
    "#### Instructions:\n",
    "1. Import necessary libraries and load the dataset.\n",
    "\n",
    "2. Perform exploratory data analysis and preprocessing (e.g., check for missing values, visualize the data, etc.).\n",
    "\n",
    "3. Split the dataset into training and testing sets.\n",
    "\n",
    "4. Implement the following regression models:\n",
    "   * Simple Linear Regression (choose an appropriate feature)\n",
    "   * Multiple Linear Regression\n",
    "   * Polynomial Regression\n",
    "   * Ridge Regression\n",
    "   * Lasso Regression\n",
    "   * Support Vector Regression\n",
    "   * Decision Tree Regression\n",
    "   * Random Forest Regression\n",
    "5. Evaluate the performance of each model using appropriate evaluation metrics, such as MAE, MSE, RMSE, R-squared, or Adjusted R-squared.\n",
    "\n",
    "6. Perform cross-validation and hyperparameter tuning for the models that require it, using grid search or randomized search.\n",
    "\n",
    "7. Compare the performance of the different models and discuss your findings.\n",
    "\n",
    "8. Choose the best model based on the evaluation metrics and provide insights into its performance and predictions.\n",
    "\n",
    "#### Submission:\n",
    "* Prepare a report or Jupyter Notebook that includes your code, visualizations, results, and explanations for each step. The report should be well-organized, clear, and concise."
   ]
  },
  {
   "cell_type": "markdown",
   "id": "2ca79a62-864d-4562-901e-912fefc7c52d",
   "metadata": {},
   "source": [
    "<span style=\"font-size: 30px; color: green\">Import Libraries</span>"
   ]
  },
  {
   "cell_type": "code",
   "execution_count": 23,
   "id": "2c039df3-4ca4-40cf-94fd-80dedbe33676",
   "metadata": {},
   "outputs": [],
   "source": [
    "import pandas as pd\n",
    "import numpy as np\n",
    "# import plotly.express as px\n",
    "import matplotlib.pyplot as plt\n",
    "from sklearn.model_selection import train_test_split\n",
    "from sklearn.linear_model import LinearRegression\n",
    "from sklearn.metrics import mean_squared_error, mean_absolute_error, r2_score\n",
    "from sklearn.preprocessing import PolynomialFeatures"
   ]
  },
  {
   "cell_type": "markdown",
   "id": "c7a0bea0-bfdb-4213-b973-2371b2a66094",
   "metadata": {},
   "source": [
    "<span style=\"font-size: 30px; color: green\">Load Dataset</span>"
   ]
  },
  {
   "cell_type": "code",
   "execution_count": 2,
   "id": "dc76cdbe-cbde-4f66-8be2-0e4e8e88b4af",
   "metadata": {},
   "outputs": [],
   "source": [
    "data_url = \"http://lib.stat.cmu.edu/datasets/boston\"\n",
    "raw_df = pd.read_csv(data_url, sep=\"\\s+\", skiprows=22, header=None)\n",
    "data = np.hstack([raw_df.values[::2, :], raw_df.values[1::2, :2]])\n",
    "target = raw_df.values[1::2, 2]"
   ]
  },
  {
   "cell_type": "markdown",
   "id": "54c4a74d-fc53-4455-b7d8-d97988a5c6a1",
   "metadata": {},
   "source": [
    "#### Load the Dataframe for data and target"
   ]
  },
  {
   "cell_type": "code",
   "execution_count": 3,
   "id": "5183b114-ae3d-4a53-a07a-98573d5c0ebc",
   "metadata": {},
   "outputs": [
    {
     "data": {
      "text/html": [
       "<div>\n",
       "<style scoped>\n",
       "    .dataframe tbody tr th:only-of-type {\n",
       "        vertical-align: middle;\n",
       "    }\n",
       "\n",
       "    .dataframe tbody tr th {\n",
       "        vertical-align: top;\n",
       "    }\n",
       "\n",
       "    .dataframe thead th {\n",
       "        text-align: right;\n",
       "    }\n",
       "</style>\n",
       "<table border=\"1\" class=\"dataframe\">\n",
       "  <thead>\n",
       "    <tr style=\"text-align: right;\">\n",
       "      <th></th>\n",
       "      <th>CRIM</th>\n",
       "      <th>ZN</th>\n",
       "      <th>INDUS</th>\n",
       "      <th>CHAS</th>\n",
       "      <th>NOX</th>\n",
       "      <th>RM</th>\n",
       "      <th>AGE</th>\n",
       "      <th>DIS</th>\n",
       "      <th>RAD</th>\n",
       "      <th>TAX</th>\n",
       "      <th>PTRATIO</th>\n",
       "      <th>B</th>\n",
       "      <th>LSTAT</th>\n",
       "      <th>Target</th>\n",
       "    </tr>\n",
       "  </thead>\n",
       "  <tbody>\n",
       "    <tr>\n",
       "      <th>0</th>\n",
       "      <td>0.00632</td>\n",
       "      <td>18.0</td>\n",
       "      <td>2.31</td>\n",
       "      <td>0.0</td>\n",
       "      <td>0.538</td>\n",
       "      <td>6.575</td>\n",
       "      <td>65.2</td>\n",
       "      <td>4.0900</td>\n",
       "      <td>1.0</td>\n",
       "      <td>296.0</td>\n",
       "      <td>15.3</td>\n",
       "      <td>396.90</td>\n",
       "      <td>4.98</td>\n",
       "      <td>24.0</td>\n",
       "    </tr>\n",
       "    <tr>\n",
       "      <th>1</th>\n",
       "      <td>0.02731</td>\n",
       "      <td>0.0</td>\n",
       "      <td>7.07</td>\n",
       "      <td>0.0</td>\n",
       "      <td>0.469</td>\n",
       "      <td>6.421</td>\n",
       "      <td>78.9</td>\n",
       "      <td>4.9671</td>\n",
       "      <td>2.0</td>\n",
       "      <td>242.0</td>\n",
       "      <td>17.8</td>\n",
       "      <td>396.90</td>\n",
       "      <td>9.14</td>\n",
       "      <td>21.6</td>\n",
       "    </tr>\n",
       "    <tr>\n",
       "      <th>2</th>\n",
       "      <td>0.02729</td>\n",
       "      <td>0.0</td>\n",
       "      <td>7.07</td>\n",
       "      <td>0.0</td>\n",
       "      <td>0.469</td>\n",
       "      <td>7.185</td>\n",
       "      <td>61.1</td>\n",
       "      <td>4.9671</td>\n",
       "      <td>2.0</td>\n",
       "      <td>242.0</td>\n",
       "      <td>17.8</td>\n",
       "      <td>392.83</td>\n",
       "      <td>4.03</td>\n",
       "      <td>34.7</td>\n",
       "    </tr>\n",
       "    <tr>\n",
       "      <th>3</th>\n",
       "      <td>0.03237</td>\n",
       "      <td>0.0</td>\n",
       "      <td>2.18</td>\n",
       "      <td>0.0</td>\n",
       "      <td>0.458</td>\n",
       "      <td>6.998</td>\n",
       "      <td>45.8</td>\n",
       "      <td>6.0622</td>\n",
       "      <td>3.0</td>\n",
       "      <td>222.0</td>\n",
       "      <td>18.7</td>\n",
       "      <td>394.63</td>\n",
       "      <td>2.94</td>\n",
       "      <td>33.4</td>\n",
       "    </tr>\n",
       "    <tr>\n",
       "      <th>4</th>\n",
       "      <td>0.06905</td>\n",
       "      <td>0.0</td>\n",
       "      <td>2.18</td>\n",
       "      <td>0.0</td>\n",
       "      <td>0.458</td>\n",
       "      <td>7.147</td>\n",
       "      <td>54.2</td>\n",
       "      <td>6.0622</td>\n",
       "      <td>3.0</td>\n",
       "      <td>222.0</td>\n",
       "      <td>18.7</td>\n",
       "      <td>396.90</td>\n",
       "      <td>5.33</td>\n",
       "      <td>36.2</td>\n",
       "    </tr>\n",
       "  </tbody>\n",
       "</table>\n",
       "</div>"
      ],
      "text/plain": [
       "      CRIM    ZN  INDUS  CHAS    NOX     RM   AGE     DIS  RAD    TAX  \\\n",
       "0  0.00632  18.0   2.31   0.0  0.538  6.575  65.2  4.0900  1.0  296.0   \n",
       "1  0.02731   0.0   7.07   0.0  0.469  6.421  78.9  4.9671  2.0  242.0   \n",
       "2  0.02729   0.0   7.07   0.0  0.469  7.185  61.1  4.9671  2.0  242.0   \n",
       "3  0.03237   0.0   2.18   0.0  0.458  6.998  45.8  6.0622  3.0  222.0   \n",
       "4  0.06905   0.0   2.18   0.0  0.458  7.147  54.2  6.0622  3.0  222.0   \n",
       "\n",
       "   PTRATIO       B  LSTAT  Target  \n",
       "0     15.3  396.90   4.98    24.0  \n",
       "1     17.8  396.90   9.14    21.6  \n",
       "2     17.8  392.83   4.03    34.7  \n",
       "3     18.7  394.63   2.94    33.4  \n",
       "4     18.7  396.90   5.33    36.2  "
      ]
     },
     "execution_count": 3,
     "metadata": {},
     "output_type": "execute_result"
    }
   ],
   "source": [
    "# Rename the columns\n",
    "columns = ['CRIM', 'ZN', 'INDUS', 'CHAS', 'NOX', 'RM', 'AGE', 'DIS', 'RAD', 'TAX', 'PTRATIO', 'B', 'LSTAT']\n",
    "\n",
    "# Load the dataframe for Data\n",
    "df = pd.DataFrame(data, columns=columns)\n",
    "\n",
    "# Load the target\n",
    "df[\"Target\"] = target\n",
    "\n",
    "df.head()"
   ]
  },
  {
   "cell_type": "code",
   "execution_count": 4,
   "id": "0d83aba6-cde2-484e-b83f-f0b34cf0c3c7",
   "metadata": {},
   "outputs": [],
   "source": [
    "# Save the new data\n",
    "df.to_csv(\"boston.csv\", index=False)"
   ]
  },
  {
   "cell_type": "markdown",
   "id": "860b7690-113d-496f-9dbc-c854fb505f29",
   "metadata": {},
   "source": [
    "<span style=\"font-size: 30px; color: green\">Reload Dataset</span>"
   ]
  },
  {
   "cell_type": "code",
   "execution_count": 5,
   "id": "e431f625-052c-47ab-bd8a-9472a341f8ad",
   "metadata": {},
   "outputs": [
    {
     "data": {
      "text/html": [
       "<div>\n",
       "<style scoped>\n",
       "    .dataframe tbody tr th:only-of-type {\n",
       "        vertical-align: middle;\n",
       "    }\n",
       "\n",
       "    .dataframe tbody tr th {\n",
       "        vertical-align: top;\n",
       "    }\n",
       "\n",
       "    .dataframe thead th {\n",
       "        text-align: right;\n",
       "    }\n",
       "</style>\n",
       "<table border=\"1\" class=\"dataframe\">\n",
       "  <thead>\n",
       "    <tr style=\"text-align: right;\">\n",
       "      <th></th>\n",
       "      <th>CRIM</th>\n",
       "      <th>ZN</th>\n",
       "      <th>INDUS</th>\n",
       "      <th>CHAS</th>\n",
       "      <th>NOX</th>\n",
       "      <th>RM</th>\n",
       "      <th>AGE</th>\n",
       "      <th>DIS</th>\n",
       "      <th>RAD</th>\n",
       "      <th>TAX</th>\n",
       "      <th>PTRATIO</th>\n",
       "      <th>B</th>\n",
       "      <th>LSTAT</th>\n",
       "      <th>Target</th>\n",
       "    </tr>\n",
       "  </thead>\n",
       "  <tbody>\n",
       "    <tr>\n",
       "      <th>0</th>\n",
       "      <td>0.00632</td>\n",
       "      <td>18.0</td>\n",
       "      <td>2.31</td>\n",
       "      <td>0.0</td>\n",
       "      <td>0.538</td>\n",
       "      <td>6.575</td>\n",
       "      <td>65.2</td>\n",
       "      <td>4.0900</td>\n",
       "      <td>1.0</td>\n",
       "      <td>296.0</td>\n",
       "      <td>15.3</td>\n",
       "      <td>396.9</td>\n",
       "      <td>4.98</td>\n",
       "      <td>24.0</td>\n",
       "    </tr>\n",
       "    <tr>\n",
       "      <th>1</th>\n",
       "      <td>0.02731</td>\n",
       "      <td>0.0</td>\n",
       "      <td>7.07</td>\n",
       "      <td>0.0</td>\n",
       "      <td>0.469</td>\n",
       "      <td>6.421</td>\n",
       "      <td>78.9</td>\n",
       "      <td>4.9671</td>\n",
       "      <td>2.0</td>\n",
       "      <td>242.0</td>\n",
       "      <td>17.8</td>\n",
       "      <td>396.9</td>\n",
       "      <td>9.14</td>\n",
       "      <td>21.6</td>\n",
       "    </tr>\n",
       "  </tbody>\n",
       "</table>\n",
       "</div>"
      ],
      "text/plain": [
       "      CRIM    ZN  INDUS  CHAS    NOX     RM   AGE     DIS  RAD    TAX  \\\n",
       "0  0.00632  18.0   2.31   0.0  0.538  6.575  65.2  4.0900  1.0  296.0   \n",
       "1  0.02731   0.0   7.07   0.0  0.469  6.421  78.9  4.9671  2.0  242.0   \n",
       "\n",
       "   PTRATIO      B  LSTAT  Target  \n",
       "0     15.3  396.9   4.98    24.0  \n",
       "1     17.8  396.9   9.14    21.6  "
      ]
     },
     "execution_count": 5,
     "metadata": {},
     "output_type": "execute_result"
    }
   ],
   "source": [
    "boston_data = pd.read_csv(\"boston.csv\")\n",
    "boston_data.head(2)"
   ]
  },
  {
   "cell_type": "markdown",
   "id": "b6308daf-dabd-4080-a812-e20df1c7d7ca",
   "metadata": {},
   "source": [
    "<span style=\"font-size: 30px; color: green\">Exploratory Data Analysis and Preprocessing</span>"
   ]
  },
  {
   "cell_type": "code",
   "execution_count": 6,
   "id": "8d41cad8-6374-4f7b-9a4c-f42896b5546c",
   "metadata": {},
   "outputs": [
    {
     "data": {
      "text/plain": [
       "CRIM       0\n",
       "ZN         0\n",
       "INDUS      0\n",
       "CHAS       0\n",
       "NOX        0\n",
       "RM         0\n",
       "AGE        0\n",
       "DIS        0\n",
       "RAD        0\n",
       "TAX        0\n",
       "PTRATIO    0\n",
       "B          0\n",
       "LSTAT      0\n",
       "Target     0\n",
       "dtype: int64"
      ]
     },
     "execution_count": 6,
     "metadata": {},
     "output_type": "execute_result"
    }
   ],
   "source": [
    "# Check for missing values\n",
    "boston_data.isnull().sum()"
   ]
  },
  {
   "cell_type": "markdown",
   "id": "b985ce2d-6176-4025-8a98-ec5848aa4b5c",
   "metadata": {},
   "source": [
    "<span style=\"font-size: 20px; color: green\">Data Visualization</span>"
   ]
  },
  {
   "cell_type": "code",
   "execution_count": 7,
   "id": "048a12c7-fac7-4a49-8338-fdffdd20c08a",
   "metadata": {},
   "outputs": [
    {
     "data": {
      "image/png": "[encoded data removed]",
      "text/plain": [
       "<Figure size 1200x1000 with 16 Axes>"
      ]
     },
     "metadata": {},
     "output_type": "display_data"
    }
   ],
   "source": [
    "boston_data.hist(figsize=(12, 10))\n",
    "plt.show()"
   ]
  },
  {
   "cell_type": "markdown",
   "id": "28c1a949-6a65-4c35-b508-682f17d21915",
   "metadata": {},
   "source": [
    "<span style=\"font-size: 30px; color: green\">Data Splitting</span>"
   ]
  },
  {
   "cell_type": "code",
   "execution_count": 8,
   "id": "ebbd6b97-8472-4afc-ac94-cf7e253df24b",
   "metadata": {},
   "outputs": [],
   "source": [
    "X = boston_data.drop(\"Target\", axis=1)\n",
    "y = boston_data[\"Target\"]\n",
    "\n",
    "X_train, X_test, y_train, y_test = train_test_split(X, y, test_size=0.2, random_state=42)"
   ]
  },
  {
   "cell_type": "markdown",
   "id": "933a501a-d4e6-4134-962d-bb21142c56d4",
   "metadata": {},
   "source": [
    "<span style=\"font-size: 30px; color: green\">Implementing regression models:</span>"
   ]
  },
  {
   "cell_type": "markdown",
   "id": "e572b995-9686-404f-98c9-06ed8e310fe7",
   "metadata": {},
   "source": [
    "<span style=\"font-size: 20px; color: blue\">Simple Linear Regression</span>"
   ]
  },
  {
   "cell_type": "code",
   "execution_count": 22,
   "id": "ead98517-4b6a-4045-a9e8-37d985ccf7ba",
   "metadata": {},
   "outputs": [
    {
     "name": "stdout",
     "output_type": "stream",
     "text": [
      "Mean Squared Error(MSE): 46.144775347317264\n",
      "Mean Absolute Error(MAE): 4.478335832064149\n",
      "R2_Score(R-Squared Score): 0.3707569232254778\n"
     ]
    }
   ],
   "source": [
    "# linear regresion model(Single independent variable)\n",
    "slr_model = LinearRegression()\n",
    "\n",
    "# reshape the array to use a single feature form X_train and X_test\n",
    "X_train_ind_var = X_train[\"RM\"].values.reshape(-1, 1)\n",
    "X_test_ind_var = X_test[\"RM\"].values.reshape(-1, 1)\n",
    "\n",
    "# fit the model on training data\n",
    "slr_model.fit(X_train_ind_var, y_train)\n",
    "\n",
    "# predict the model on testing data\n",
    "slr_y_pred = slr_model.predict(X_test_ind_var)\n",
    "\n",
    "# evaluate the model\n",
    "print(f\"Mean Squared Error(MSE): {mean_squared_error(y_test, slr_y_pred)}\")# closer to 0 means perfect prediction\n",
    "print(f\"Mean Absolute Error(MAE): {mean_absolute_error(y_test, slr_y_pred)}\")# Closer to 0 means perfect prediction of the model\n",
    "print(f\"R2_Score(R-Squared Score): {r2_score(y_test, slr_y_pred)}\")# when score is 1, it indicates that the model's predictions perfectly match the actual values in the dataset"
   ]
  },
  {
   "cell_type": "markdown",
   "id": "f61892a9-b3d4-454c-8f69-e81c629b3173",
   "metadata": {},
   "source": [
    "<span style=\"font-size: 20px; color: blue\">Multiple Linear Regression</span>"
   ]
  },
  {
   "cell_type": "code",
   "execution_count": 24,
   "id": "d8cac586-c92b-49f4-90bc-877de7112799",
   "metadata": {},
   "outputs": [
    {
     "name": "stdout",
     "output_type": "stream",
     "text": [
      "Mean Squared Error(MSE): 24.29111947497331\n",
      "Mean Absolute Error(MAE): 3.1890919658878247\n",
      "R2_Score(R-Squared Score): 0.6687594935356348\n"
     ]
    }
   ],
   "source": [
    "# Linear regression model(multile independent variable)\n",
    "mlr_model = LinearRegression()\n",
    "# fit the model on training data\n",
    "mlr_model.fit(X_train, y_train)\n",
    "# Predict the model on testing data\n",
    "mlr_y_pred = mlr_model.predict(X_test)\n",
    "\n",
    "# model evaluation\n",
    "print(f\"Mean Squared Error(MSE): {mean_squared_error(y_test, mlr_y_pred)}\")\n",
    "print(f\"Mean Absolute Error(MAE): {mean_absolute_error(y_test, mlr_y_pred)}\")\n",
    "print(f\"R2_Score(R-Squared Score): {r2_score(y_test, mlr_y_pred)}\")"
   ]
  },
  {
   "cell_type": "markdown",
   "id": "cf9f20be-fba5-443e-8319-4ff5fb093358",
   "metadata": {},
   "source": [
    "<span style=\"font-size: 20px; color: blue\">Polynomial Regression</span>"
   ]
  },
  {
   "cell_type": "code",
   "execution_count": 26,
   "id": "bccdbdab-f93e-4333-94fb-07ece248a43c",
   "metadata": {},
   "outputs": [
    {
     "name": "stderr",
     "output_type": "stream",
     "text": [
      "/home/jane/.local/lib/python3.8/site-packages/sklearn/base.py:457: UserWarning: X has feature names, but LinearRegression was fitted without feature names\n",
      "  warnings.warn(\n"
     ]
    },
    {
     "ename": "ValueError",
     "evalue": "X has 13 features, but LinearRegression is expecting 105 features as input.",
     "output_type": "error",
     "traceback": [
      "\u001b[0;31m---------------------------------------------------------------------------\u001b[0m",
      "\u001b[0;31mValueError\u001b[0m                                Traceback (most recent call last)",
      "Cell \u001b[0;32mIn[26], line 15\u001b[0m\n\u001b[1;32m     13\u001b[0m lr_model\u001b[38;5;241m.\u001b[39mfit(X_train_poly, y_train)\n\u001b[1;32m     14\u001b[0m \u001b[38;5;66;03m# predict the model on testing data\u001b[39;00m\n\u001b[0;32m---> 15\u001b[0m poly_y_pred \u001b[38;5;241m=\u001b[39m \u001b[43mlr_model\u001b[49m\u001b[38;5;241;43m.\u001b[39;49m\u001b[43mpredict\u001b[49m\u001b[43m(\u001b[49m\u001b[43mX_test\u001b[49m\u001b[43m)\u001b[49m\n\u001b[1;32m     17\u001b[0m \u001b[38;5;66;03m# model evaluation\u001b[39;00m\n\u001b[1;32m     18\u001b[0m \u001b[38;5;28mprint\u001b[39m(\u001b[38;5;124mf\u001b[39m\u001b[38;5;124m\"\u001b[39m\u001b[38;5;124mMean Squared Error(MSE): \u001b[39m\u001b[38;5;132;01m{\u001b[39;00mmean_squared_error(y_test,\u001b[38;5;250m \u001b[39mpoly_y_pred)\u001b[38;5;132;01m}\u001b[39;00m\u001b[38;5;124m\"\u001b[39m)\n",
      "File \u001b[0;32m~/.local/lib/python3.8/site-packages/sklearn/linear_model/_base.py:386\u001b[0m, in \u001b[0;36mLinearModel.predict\u001b[0;34m(self, X)\u001b[0m\n\u001b[1;32m    372\u001b[0m \u001b[38;5;28;01mdef\u001b[39;00m \u001b[38;5;21mpredict\u001b[39m(\u001b[38;5;28mself\u001b[39m, X):\n\u001b[1;32m    373\u001b[0m \u001b[38;5;250m    \u001b[39m\u001b[38;5;124;03m\"\"\"\u001b[39;00m\n\u001b[1;32m    374\u001b[0m \u001b[38;5;124;03m    Predict using the linear model.\u001b[39;00m\n\u001b[1;32m    375\u001b[0m \n\u001b[0;32m   (...)\u001b[0m\n\u001b[1;32m    384\u001b[0m \u001b[38;5;124;03m        Returns predicted values.\u001b[39;00m\n\u001b[1;32m    385\u001b[0m \u001b[38;5;124;03m    \"\"\"\u001b[39;00m\n\u001b[0;32m--> 386\u001b[0m     \u001b[38;5;28;01mreturn\u001b[39;00m \u001b[38;5;28;43mself\u001b[39;49m\u001b[38;5;241;43m.\u001b[39;49m\u001b[43m_decision_function\u001b[49m\u001b[43m(\u001b[49m\u001b[43mX\u001b[49m\u001b[43m)\u001b[49m\n",
      "File \u001b[0;32m~/.local/lib/python3.8/site-packages/sklearn/linear_model/_base.py:369\u001b[0m, in \u001b[0;36mLinearModel._decision_function\u001b[0;34m(self, X)\u001b[0m\n\u001b[1;32m    366\u001b[0m \u001b[38;5;28;01mdef\u001b[39;00m \u001b[38;5;21m_decision_function\u001b[39m(\u001b[38;5;28mself\u001b[39m, X):\n\u001b[1;32m    367\u001b[0m     check_is_fitted(\u001b[38;5;28mself\u001b[39m)\n\u001b[0;32m--> 369\u001b[0m     X \u001b[38;5;241m=\u001b[39m \u001b[38;5;28;43mself\u001b[39;49m\u001b[38;5;241;43m.\u001b[39;49m\u001b[43m_validate_data\u001b[49m\u001b[43m(\u001b[49m\u001b[43mX\u001b[49m\u001b[43m,\u001b[49m\u001b[43m \u001b[49m\u001b[43maccept_sparse\u001b[49m\u001b[38;5;241;43m=\u001b[39;49m\u001b[43m[\u001b[49m\u001b[38;5;124;43m\"\u001b[39;49m\u001b[38;5;124;43mcsr\u001b[39;49m\u001b[38;5;124;43m\"\u001b[39;49m\u001b[43m,\u001b[49m\u001b[43m \u001b[49m\u001b[38;5;124;43m\"\u001b[39;49m\u001b[38;5;124;43mcsc\u001b[39;49m\u001b[38;5;124;43m\"\u001b[39;49m\u001b[43m,\u001b[49m\u001b[43m \u001b[49m\u001b[38;5;124;43m\"\u001b[39;49m\u001b[38;5;124;43mcoo\u001b[39;49m\u001b[38;5;124;43m\"\u001b[39;49m\u001b[43m]\u001b[49m\u001b[43m,\u001b[49m\u001b[43m \u001b[49m\u001b[43mreset\u001b[49m\u001b[38;5;241;43m=\u001b[39;49m\u001b[38;5;28;43;01mFalse\u001b[39;49;00m\u001b[43m)\u001b[49m\n\u001b[1;32m    370\u001b[0m     \u001b[38;5;28;01mreturn\u001b[39;00m safe_sparse_dot(X, \u001b[38;5;28mself\u001b[39m\u001b[38;5;241m.\u001b[39mcoef_\u001b[38;5;241m.\u001b[39mT, dense_output\u001b[38;5;241m=\u001b[39m\u001b[38;5;28;01mTrue\u001b[39;00m) \u001b[38;5;241m+\u001b[39m \u001b[38;5;28mself\u001b[39m\u001b[38;5;241m.\u001b[39mintercept_\n",
      "File \u001b[0;32m~/.local/lib/python3.8/site-packages/sklearn/base.py:625\u001b[0m, in \u001b[0;36mBaseEstimator._validate_data\u001b[0;34m(self, X, y, reset, validate_separately, cast_to_ndarray, **check_params)\u001b[0m\n\u001b[1;32m    622\u001b[0m     out \u001b[38;5;241m=\u001b[39m X, y\n\u001b[1;32m    624\u001b[0m \u001b[38;5;28;01mif\u001b[39;00m \u001b[38;5;129;01mnot\u001b[39;00m no_val_X \u001b[38;5;129;01mand\u001b[39;00m check_params\u001b[38;5;241m.\u001b[39mget(\u001b[38;5;124m\"\u001b[39m\u001b[38;5;124mensure_2d\u001b[39m\u001b[38;5;124m\"\u001b[39m, \u001b[38;5;28;01mTrue\u001b[39;00m):\n\u001b[0;32m--> 625\u001b[0m     \u001b[38;5;28;43mself\u001b[39;49m\u001b[38;5;241;43m.\u001b[39;49m\u001b[43m_check_n_features\u001b[49m\u001b[43m(\u001b[49m\u001b[43mX\u001b[49m\u001b[43m,\u001b[49m\u001b[43m \u001b[49m\u001b[43mreset\u001b[49m\u001b[38;5;241;43m=\u001b[39;49m\u001b[43mreset\u001b[49m\u001b[43m)\u001b[49m\n\u001b[1;32m    627\u001b[0m \u001b[38;5;28;01mreturn\u001b[39;00m out\n",
      "File \u001b[0;32m~/.local/lib/python3.8/site-packages/sklearn/base.py:414\u001b[0m, in \u001b[0;36mBaseEstimator._check_n_features\u001b[0;34m(self, X, reset)\u001b[0m\n\u001b[1;32m    411\u001b[0m     \u001b[38;5;28;01mreturn\u001b[39;00m\n\u001b[1;32m    413\u001b[0m \u001b[38;5;28;01mif\u001b[39;00m n_features \u001b[38;5;241m!=\u001b[39m \u001b[38;5;28mself\u001b[39m\u001b[38;5;241m.\u001b[39mn_features_in_:\n\u001b[0;32m--> 414\u001b[0m     \u001b[38;5;28;01mraise\u001b[39;00m \u001b[38;5;167;01mValueError\u001b[39;00m(\n\u001b[1;32m    415\u001b[0m         \u001b[38;5;124mf\u001b[39m\u001b[38;5;124m\"\u001b[39m\u001b[38;5;124mX has \u001b[39m\u001b[38;5;132;01m{\u001b[39;00mn_features\u001b[38;5;132;01m}\u001b[39;00m\u001b[38;5;124m features, but \u001b[39m\u001b[38;5;132;01m{\u001b[39;00m\u001b[38;5;28mself\u001b[39m\u001b[38;5;241m.\u001b[39m\u001b[38;5;18m__class__\u001b[39m\u001b[38;5;241m.\u001b[39m\u001b[38;5;18m__name__\u001b[39m\u001b[38;5;132;01m}\u001b[39;00m\u001b[38;5;124m \u001b[39m\u001b[38;5;124m\"\u001b[39m\n\u001b[1;32m    416\u001b[0m         \u001b[38;5;124mf\u001b[39m\u001b[38;5;124m\"\u001b[39m\u001b[38;5;124mis expecting \u001b[39m\u001b[38;5;132;01m{\u001b[39;00m\u001b[38;5;28mself\u001b[39m\u001b[38;5;241m.\u001b[39mn_features_in_\u001b[38;5;132;01m}\u001b[39;00m\u001b[38;5;124m features as input.\u001b[39m\u001b[38;5;124m\"\u001b[39m\n\u001b[1;32m    417\u001b[0m     )\n",
      "\u001b[0;31mValueError\u001b[0m: X has 13 features, but LinearRegression is expecting 105 features as input."
     ]
    }
   ],
   "source": [
    "# how many times the variable is multiplied by itself\n",
    "\n",
    "# Ploynormial feature object with desired degree\n",
    "poly_feature = PolynomialFeatures(degree=2)\n",
    "\n",
    "# Transform input features to polynormial features\n",
    "X_train_poly = poly_feature.fit_transform(X_train)\n",
    "X_test_poly = poly_feature.transform(X_test)\n",
    "\n",
    "# Linear regression model\n",
    "lr_model = LinearRegression()\n",
    "# fit the model on training data\n",
    "lr_model.fit(X_train_poly, y_train)\n",
    "# predict the model on testing data\n",
    "poly_y_pred = lr_model.predict(X_test)\n",
    "\n",
    "# model evaluation\n",
    "print(f\"Mean Squared Error(MSE): {mean_squared_error(y_test, poly_y_pred)}\")\n",
    "print(f\"Mean Absolute Error(MAE): {mean_absolute_error(y_test, poly_y_pred)}\")\n",
    "print(f\"R2_Score(R-Squared Score): {r2_score(y_test, poly_y_pred)}\")"
   ]
  },
  {
   "cell_type": "code",
   "execution_count": null,
   "id": "8633d237-e492-4cb6-bcd7-5bcaa5443bb7",
   "metadata": {},
   "outputs": [],
   "source": [
    "# Implement Polynomial Regression (use the same Linear Regression model with transformed features)\n",
    "poly_features = PolynomialFeatures(degree=2)\n",
    "X_train_poly = poly_features.fit_transform(X_train)\n",
    "X_test_poly = poly_features.transform(X_test)\n",
    "poly_lr = LinearRegression()\n",
    "poly_lr.fit(X_train_poly, y_train)\n",
    "poly_lr_metrics = evaluate_model(poly_lr, X_test_poly, y_test)\n"
   ]
  },
  {
   "cell_type": "markdown",
   "id": "f67f910b-7af3-47a5-9015-186b9825f280",
   "metadata": {},
   "source": [
    "<span style=\"font-size: 30px; color: green\">Import Libraries</span>"
   ]
  },
  {
   "cell_type": "code",
   "execution_count": null,
   "id": "49758e90-ef83-4f7f-b08c-7288fe55d362",
   "metadata": {},
   "outputs": [],
   "source": []
  },
  {
   "cell_type": "code",
   "execution_count": null,
   "id": "e20e23fe-c744-42c1-8e66-5a3b253e58ca",
   "metadata": {},
   "outputs": [],
   "source": []
  },
  {
   "cell_type": "code",
   "execution_count": null,
   "id": "6ea94d6e-8ed0-47ba-a07e-83311539fa46",
   "metadata": {},
   "outputs": [],
   "source": []
  },
  {
   "cell_type": "code",
   "execution_count": null,
   "id": "07e9aaca-6398-4fa4-9157-3017c9f43304",
   "metadata": {},
   "outputs": [],
   "source": []
  }
 ],
 "metadata": {
  "kernelspec": {
   "display_name": "Python 3 (ipykernel)",
   "language": "python",
   "name": "python3"
  },
  "language_info": {
   "codemirror_mode": {
    "name": "ipython",
    "version": 3
   },
   "file_extension": ".py",
   "mimetype": "text/x-python",
   "name": "python",
   "nbconvert_exporter": "python",
   "pygments_lexer": "ipython3",
   "version": "3.8.10"
  }
 },
 "nbformat": 4,
 "nbformat_minor": 5
}
